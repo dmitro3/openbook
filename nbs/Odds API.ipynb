{
 "cells": [
  {
   "cell_type": "code",
   "execution_count": 2,
   "id": "7aee26d5-1096-4569-a279-38483a716743",
   "metadata": {},
   "outputs": [],
   "source": [
    "import pandas as pd"
   ]
  },
  {
   "cell_type": "code",
   "execution_count": 3,
   "id": "c111b4b5-047f-4218-a4b6-c635a3882565",
   "metadata": {},
   "outputs": [],
   "source": [
    "sports = pd.read_csv('../sports.csv')\n"
   ]
  },
  {
   "cell_type": "code",
   "execution_count": 19,
   "id": "c39f9542-2723-4f36-a117-c4a3058b6c4e",
   "metadata": {},
   "outputs": [],
   "source": [
    "import json"
   ]
  },
  {
   "cell_type": "code",
   "execution_count": 20,
   "id": "d551d00a-7f33-4f1b-af34-6865b30c16e4",
   "metadata": {},
   "outputs": [],
   "source": [
    "data = json.loads(open('../odds.json').read())"
   ]
  },
  {
   "cell_type": "code",
   "execution_count": 23,
   "id": "9db170bc-5cf8-430c-9cd3-94903b9de137",
   "metadata": {},
   "outputs": [
    {
     "data": {
      "text/plain": [
       "[{'timestamp': '2022-08-27T16:00:00Z',\n",
       "  'id': 'a3fffa5803751d36f749c4b9388b9eeb',\n",
       "  'match': ['Northwestern Wildcats', 'Nebraska Cornhuskers'],\n",
       "  'outcomes': {'2': 1.17, '1': 4.4}},\n",
       " {'timestamp': '2022-08-27T17:00:00Z',\n",
       "  'id': 'eb8e9773735648f515fbcf4782166280',\n",
       "  'match': ['Florida Atlantic Owls', 'Charlotte 49ers'],\n",
       "  'outcomes': {'2': 2.9, '1': 1.37}},\n",
       " {'timestamp': '2022-08-27T17:00:00Z',\n",
       "  'id': '49079c2ff81faf632640c3f6da22c9a1',\n",
       "  'match': ['Hawaii Rainbow Warriors', 'Vanderbilt Commodores'],\n",
       "  'outcomes': {'1': 2.95, '2': 1.36}},\n",
       " {'timestamp': '2022-08-27T17:00:00Z',\n",
       "  'id': '08027d5ded70960f0293f7e6479c0c12',\n",
       "  'match': ['Illinois Fighting Illini', 'Wyoming Cowboys'],\n",
       "  'outcomes': {'1': 1.19, '2': 4.5}},\n",
       " {'timestamp': '2022-08-27T17:00:00Z',\n",
       "  'id': 'b7fa735f322788a5ccc479f375fa5e8c',\n",
       "  'match': ['New Mexico State Aggies', 'Nevada Wolf Pack'],\n",
       "  'outcomes': {'2': 1.14, '1': 5.3}},\n",
       " {'timestamp': '2022-08-27T17:00:00Z',\n",
       "  'id': 'fbbb12a7c914f9683d73e11cbf73c3dc',\n",
       "  'match': ['UTEP Miners', 'North Texas Mean Green'],\n",
       "  'outcomes': {'2': 1.79, '1': 2.0}},\n",
       " {'timestamp': '2022-08-27T17:00:00Z',\n",
       "  'id': 'f539e44bacd7dc6958422d15331401ec',\n",
       "  'match': ['Utah State Aggies', 'UConn Huskies']},\n",
       " {'timestamp': '2022-09-01T16:00:00Z',\n",
       "  'id': '64e4d0ec9978d46ace05761e4f01abbf',\n",
       "  'match': ['Purdue Boilermakers', 'Penn State Nittany Lions'],\n",
       "  'outcomes': {'2': 1.6, '1': 2.28}}]"
      ]
     },
     "execution_count": 23,
     "metadata": {},
     "output_type": "execute_result"
    }
   ],
   "source": [
    "data['American Football']['NCAAF']"
   ]
  },
  {
   "cell_type": "code",
   "execution_count": 18,
   "id": "3b83609c-f567-4299-9771-634655ecdb9d",
   "metadata": {},
   "outputs": [
    {
     "name": "stdout",
     "output_type": "stream",
     "text": [
      "16\n",
      "0\n",
      "0\n",
      "0\n",
      "8\n",
      "12\n"
     ]
    }
   ],
   "source": [
    "new_da\n",
    "\n",
    "for d in data:\n",
    "    length = 0\n",
    "    for m in data[d]:\n",
    "        length = length + len(data[d][m])\n",
    "        \n",
    "    if length > 0:\n",
    "        "
   ]
  },
  {
   "cell_type": "code",
   "execution_count": null,
   "id": "642ca279-9384-40ce-b3f7-3fa774331159",
   "metadata": {},
   "outputs": [],
   "source": []
  }
 ],
 "metadata": {
  "kernelspec": {
   "display_name": "Python 3 (ipykernel)",
   "language": "python",
   "name": "python3"
  },
  "language_info": {
   "codemirror_mode": {
    "name": "ipython",
    "version": 3
   },
   "file_extension": ".py",
   "mimetype": "text/x-python",
   "name": "python",
   "nbconvert_exporter": "python",
   "pygments_lexer": "ipython3",
   "version": "3.9.13"
  }
 },
 "nbformat": 4,
 "nbformat_minor": 5
}
