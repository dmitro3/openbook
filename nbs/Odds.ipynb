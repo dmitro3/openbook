{
 "cells": [
  {
   "cell_type": "code",
   "execution_count": 1,
   "id": "9d8d3fbb-fdf1-408b-b183-900a20442c07",
   "metadata": {},
   "outputs": [],
   "source": [
    "import requests\n",
    "import json\n",
    "import pandas as pd"
   ]
  },
  {
   "cell_type": "code",
   "execution_count": 2,
   "id": "bf289dda-5a26-40c3-960f-bb0030511bc4",
   "metadata": {},
   "outputs": [],
   "source": [
    "def round_down(n, places=2):\n",
    "    return int(n * (10 ** places)) / 10 ** places\n",
    "\n",
    "def us_to_decimal(odds):\n",
    "    if odds > 1:\n",
    "        ret = (odds/100) + 1\n",
    "    else:\n",
    "        ret = (-100/odds) + 1\n",
    "        \n",
    "    return round_down(ret, 2)\n",
    "    \n",
    "def decimal_to_us(odds):\n",
    "    if odds > 2:\n",
    "        return (100*(odds-1))\n",
    "    else:\n",
    "        return (-100/(odds-1))\n",
    "\n",
    "def dec_prob(odds):\n",
    "    return 1/odds\n",
    "    \n",
    "\n",
    "def get_home_away(event):\n",
    "    home = \"\"\n",
    "    away = \"\"\n",
    "\n",
    "    for team in event['teams']:\n",
    "        if team['is_home'] == True:\n",
    "            home = team['name'].replace(\"\\u00e9\", \"e\")\n",
    "        else:\n",
    "            away = team['name'].replace(\"\\u00e9\", \"e\")\n",
    "            \n",
    "    return [home, away]\n",
    "\n",
    "def process_odds(odds_lst, COMISSION = 0.03):\n",
    "    com_each = len(odds_lst) / COMISSION\n",
    "    new_lst = []\n",
    "    \n",
    "    for odds in odds_lst:\n",
    "        odds = us_to_decimal(odds)\n",
    "        odds = odds * (1-COMISSION)\n",
    "        odds = round_down(odds, 2)\n",
    "        new_lst.append(odds)\n",
    "        \n",
    "    return new_lst"
   ]
  },
  {
   "cell_type": "code",
   "execution_count": 3,
   "id": "0b51ee67-2adc-4169-8165-a17e1f1152fe",
   "metadata": {},
   "outputs": [],
   "source": [
    "headers = {\n",
    "    'x-rapidapi-host': \"therundown-therundown-v1.p.rapidapi.com\",\n",
    "    'x-rapidapi-key': \"3036057f0emsh5177d1b9d9e1ff4p1e849djsn33b60cd42561\"\n",
    "    }"
   ]
  },
  {
   "cell_type": "code",
   "execution_count": 4,
   "id": "a70d1e52-3a08-4898-b97c-473b70face20",
   "metadata": {},
   "outputs": [],
   "source": [
    "url = \"https://therundown-therundown-v1.p.rapidapi.com\""
   ]
  },
  {
   "cell_type": "code",
   "execution_count": 5,
   "id": "25d67185-951d-4a53-a44f-481d06c35d7c",
   "metadata": {},
   "outputs": [],
   "source": [
    "res = requests.get(f'{url}/sports', headers=headers)"
   ]
  },
  {
   "cell_type": "code",
   "execution_count": 6,
   "id": "ca4b104a-93dc-4d01-9366-7681e36e45ed",
   "metadata": {},
   "outputs": [],
   "source": [
    "sports = json.loads(res.text)['sports']"
   ]
  },
  {
   "cell_type": "code",
   "execution_count": 7,
   "id": "ed312e93-f5e7-45e2-a695-4fc9b9cdd097",
   "metadata": {},
   "outputs": [],
   "source": [
    "sports = pd.DataFrame(sports)"
   ]
  },
  {
   "cell_type": "code",
   "execution_count": 8,
   "id": "180a0a5d-6651-42ad-868a-60ddc5f57c0c",
   "metadata": {},
   "outputs": [
    {
     "data": {
      "text/plain": [
       "15"
      ]
     },
     "execution_count": 8,
     "metadata": {},
     "output_type": "execute_result"
    }
   ],
   "source": [
    "len(sports)"
   ]
  },
  {
   "cell_type": "code",
   "execution_count": 9,
   "id": "9ec981f0-bfd1-417e-b6ff-cdc57c9c11f9",
   "metadata": {},
   "outputs": [],
   "source": [
    "sports['Sport'] = ['American Football', 'American Football', \"Baseball\", \"Basketball\", \"Basketball\", \"Ice Hockey\", \"MMA\", \"Basketball\", \"Soccer\", \"Soccer\", \"Soccer\", \"Soccer\", \"Soccer\", \"Soccer\", \"Soccer\"]"
   ]
  },
  {
   "cell_type": "code",
   "execution_count": 10,
   "id": "c2388f24-1132-4c93-a90d-8e10b02a0657",
   "metadata": {},
   "outputs": [],
   "source": [
    "dates = pd.date_range(\"2022-03-10\", \"2022-06-10\")"
   ]
  },
  {
   "cell_type": "code",
   "execution_count": 11,
   "id": "dd188ba6-c636-4fbb-a998-44e746502885",
   "metadata": {},
   "outputs": [],
   "source": [
    "full = {}"
   ]
  },
  {
   "cell_type": "code",
   "execution_count": 12,
   "id": "5b37aec8-f5e7-4fab-8c0a-b26f8f08d823",
   "metadata": {},
   "outputs": [
    {
     "name": "stdout",
     "output_type": "stream",
     "text": [
      "American Football\n",
      "American Football\n",
      "Baseball\n",
      "Basketball\n",
      "Basketball\n",
      "Ice Hockey\n",
      "MMA\n",
      "Basketball\n",
      "Soccer\n",
      "Soccer\n",
      "Soccer\n",
      "Soccer\n",
      "Soccer\n",
      "Soccer\n",
      "Soccer\n"
     ]
    }
   ],
   "source": [
    "for idx, row in sports.iterrows():\n",
    "\n",
    "    print(row['Sport'])\n",
    "    if row['Sport'] not in full:\n",
    "        full[row['Sport']] = {}\n",
    "\n",
    "    full[row['Sport']][row['sport_name']] = {}\n",
    "    curr = []\n",
    "\n",
    "    for d in dates:\n",
    "\n",
    "\n",
    "        da = str(d.date())\n",
    "        res = requests.get(f'{url}/sports/{row[\"sport_id\"]}/events/{da}', headers=headers)\n",
    "        events = json.loads(res.text)['events']\n",
    "        for event in events:\n",
    "            \n",
    "            try:\n",
    "                curr_event = {}\n",
    "                curr_event['timestamp'] = event['event_date']\n",
    "                curr_event['id'] = event['event_id']\n",
    "                \n",
    "                \n",
    "                \n",
    "                curr_event['match'] = get_home_away(event)\n",
    "                \n",
    "                \n",
    "                if 'lines' in event:\n",
    "\n",
    "                    for line in event['lines']:\n",
    "                        ml_lines = event['lines'][line]['moneyline']\n",
    "\n",
    "                        if ml_lines['moneyline_away'] > 1 or ml_lines['moneyline_away'] < -1:\n",
    "                            odds = {}\n",
    "                            odds_lst = []\n",
    "                            \n",
    "                            odds_lst.append(ml_lines['moneyline_home'])\n",
    "                            odds_lst.append(ml_lines['moneyline_away'])\n",
    "                            \n",
    "                            if row['Sport'] == 'Soccer':\n",
    "                                try:\n",
    "                                    odds_lst.append(ml_lines['moneyline_draw'])\n",
    "                                except:\n",
    "                                    pass\n",
    "                            \n",
    "                            odds_lst = process_odds(odds_lst)\n",
    "                            \n",
    "                            \n",
    "                            odds[\"1\"] = odds_lst[0]\n",
    "                            odds[\"2\"] = odds_lst[1]\n",
    "                            \n",
    "                            if len(odds_lst) == 3:\n",
    "                                odds[\"X\"] = odds_lst[2]\n",
    "                                \n",
    "                            curr_event[\"outcomes\"] = odds\n",
    "                            curr.append(curr_event)\n",
    "                            break\n",
    "            except Exception as e:\n",
    "                pass\n",
    "    \n",
    "    full[row['Sport']][row['sport_name']] = curr"
   ]
  },
  {
   "cell_type": "code",
   "execution_count": 14,
   "id": "8d678177-5597-4530-bad5-a15ec349a2c7",
   "metadata": {},
   "outputs": [],
   "source": [
    "json.dump(full, open('../odds.json', 'w'))"
   ]
  },
  {
   "cell_type": "code",
   "execution_count": null,
   "id": "60b4be0c-f572-486c-89b3-eb5b5c78aee3",
   "metadata": {},
   "outputs": [],
   "source": []
  }
 ],
 "metadata": {
  "kernelspec": {
   "display_name": "Python 3 (ipykernel)",
   "language": "python",
   "name": "python3"
  },
  "language_info": {
   "codemirror_mode": {
    "name": "ipython",
    "version": 3
   },
   "file_extension": ".py",
   "mimetype": "text/x-python",
   "name": "python",
   "nbconvert_exporter": "python",
   "pygments_lexer": "ipython3",
   "version": "3.8.10"
  }
 },
 "nbformat": 4,
 "nbformat_minor": 5
}
