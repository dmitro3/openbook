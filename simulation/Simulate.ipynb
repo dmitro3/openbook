{
 "cells": [
  {
   "cell_type": "code",
   "execution_count": 1,
   "id": "024c9bbe-4ef7-4b9d-9231-8f08b8480997",
   "metadata": {},
   "outputs": [],
   "source": [
    "active_liquidity = {}\n",
    "\n",
    "PER_BET_THRESHOLD = 0.02"
   ]
  },
  {
   "cell_type": "code",
   "execution_count": null,
   "id": "9fbea058-f0d6-4755-b17c-eddb5ac88bb4",
   "metadata": {},
   "outputs": [],
   "source": []
  }
 ],
 "metadata": {
  "kernelspec": {
   "display_name": "Python 3 (ipykernel)",
   "language": "python",
   "name": "python3"
  },
  "language_info": {
   "codemirror_mode": {
    "name": "ipython",
    "version": 3
   },
   "file_extension": ".py",
   "mimetype": "text/x-python",
   "name": "python",
   "nbconvert_exporter": "python",
   "pygments_lexer": "ipython3",
   "version": "3.8.10"
  }
 },
 "nbformat": 4,
 "nbformat_minor": 5
}
