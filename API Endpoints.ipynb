{
 "cells": [
  {
   "cell_type": "code",
   "execution_count": 16,
   "id": "6b94fe83-1e90-4fbf-893f-07da48d60750",
   "metadata": {},
   "outputs": [],
   "source": [
    "import requests"
   ]
  },
  {
   "cell_type": "code",
   "execution_count": 17,
   "id": "2b97287d-2e05-4c61-bd1c-6faf88fa73d0",
   "metadata": {},
   "outputs": [],
   "source": [
    "ENDPOINT = \"http://127.0.0.1:8000\""
   ]
  },
  {
   "cell_type": "code",
   "execution_count": 18,
   "id": "036fd1cc-70d8-49ca-a4fe-fe4c4539ce70",
   "metadata": {},
   "outputs": [
    {
     "data": {
      "text/plain": [
       "'{\"error\":\"SQLITE_READONLY: attempt to write a readonly database\"}'"
      ]
     },
     "execution_count": 18,
     "metadata": {},
     "output_type": "execute_result"
    }
   ],
   "source": [
    "data = {\n",
    "            'address': \"0x0000000000000000000000000000000000000000\", \n",
    "            'amount': 100000\n",
    "        }\n",
    "res = requests.post(f\"{ENDPOINT}/liquidity/add/\", json=data)\n",
    "res.text"
   ]
  },
  {
   "cell_type": "code",
   "execution_count": 12,
   "id": "8873ee8b-6dc8-49a3-bb41-10d62a5523ac",
   "metadata": {},
   "outputs": [
    {
     "data": {
      "text/plain": [
       "'20000'"
      ]
     },
     "execution_count": 12,
     "metadata": {},
     "output_type": "execute_result"
    }
   ],
   "source": [
    "res = requests.get(f\"{ENDPOINT}/liquidity/allowed/dfsdf345\") #match_id\n",
    "res.text"
   ]
  },
  {
   "cell_type": "code",
   "execution_count": 13,
   "id": "623fcec0-5c8f-4b3b-a7d6-f24ac10cd438",
   "metadata": {},
   "outputs": [
    {
     "data": {
      "text/plain": [
       "'{\"message\":\"success\",\"data\":{\"match_id\":\"dfsdf345\",\"address\":\"0x0000000000000000000000000000000000000000\",\"outcome\":\"1\",\"amount\":200,\"to_win\":280,\"odds\":1.4},\"id\":1}'"
      ]
     },
     "execution_count": 13,
     "metadata": {},
     "output_type": "execute_result"
    }
   ],
   "source": [
    "data = {\n",
    "    'address': \"0x0000000000000000000000000000000000000000\", \n",
    "    'match_id': 'dfsdf345', \n",
    "    'outcome': '1', \n",
    "    'amount': 200, \n",
    "    'odds': 1.4\n",
    "}\n",
    "res = requests.post(f\"{ENDPOINT}/bets/create/\", json=data)\n",
    "res.text"
   ]
  },
  {
   "cell_type": "code",
   "execution_count": 14,
   "id": "67013f1d-1796-4fc5-8d94-fe6b0a0759ba",
   "metadata": {},
   "outputs": [
    {
     "data": {
      "text/plain": [
       "'{\"id\":1,\"match_id\":\"dfsdf345\",\"address\":\"0x0000000000000000000000000000000000000000\",\"outcome\":\"1\",\"odds\":\"1.4\",\"amount\":\"200\",\"to_win\":\"280\",\"status\":\"pending\"}'"
      ]
     },
     "execution_count": 14,
     "metadata": {},
     "output_type": "execute_result"
    }
   ],
   "source": [
    "res = requests.get(f\"{ENDPOINT}/bets/0x0000000000000000000000000000000000000000\") #user_address\n",
    "res.text"
   ]
  },
  {
   "cell_type": "code",
   "execution_count": 15,
   "id": "8df243b7-02c6-4cd1-a633-0ca6ed81e729",
   "metadata": {},
   "outputs": [
    {
     "data": {
      "text/plain": [
       "'19944'"
      ]
     },
     "execution_count": 15,
     "metadata": {},
     "output_type": "execute_result"
    }
   ],
   "source": [
    "res = requests.get(f\"{ENDPOINT}/liquidity/allowed/dfsdf345\") #match_id\n",
    "res.text"
   ]
  },
  {
   "cell_type": "code",
   "execution_count": null,
   "id": "c4fe977f-f072-44c4-8956-50dc1adc38c3",
   "metadata": {},
   "outputs": [],
   "source": []
  }
 ],
 "metadata": {
  "kernelspec": {
   "display_name": "Python 3 (ipykernel)",
   "language": "python",
   "name": "python3"
  },
  "language_info": {
   "codemirror_mode": {
    "name": "ipython",
    "version": 3
   },
   "file_extension": ".py",
   "mimetype": "text/x-python",
   "name": "python",
   "nbconvert_exporter": "python",
   "pygments_lexer": "ipython3",
   "version": "3.8.10"
  }
 },
 "nbformat": 4,
 "nbformat_minor": 5
}
