{
 "cells": [
  {
   "cell_type": "code",
   "execution_count": 1,
   "id": "549320e0-e165-421c-8fa4-fd88a62e44db",
   "metadata": {},
   "outputs": [],
   "source": [
    "import json"
   ]
  },
  {
   "cell_type": "code",
   "execution_count": 5,
   "id": "cb714f01-2774-47db-8df6-897a820c704d",
   "metadata": {},
   "outputs": [],
   "source": [
    "data = json.load(open('odds.json'))"
   ]
  },
  {
   "cell_type": "code",
   "execution_count": 12,
   "id": "7c012f51-b9bc-41fa-9d3e-d4ff4a971d68",
   "metadata": {},
   "outputs": [],
   "source": [
    "count = 1\n",
    "new = {}\n",
    "\n",
    "for idx, rows in data.items():\n",
    "    new[idx] = {}\n",
    "    for idx2, row in rows.items():\n",
    "        new[idx][idx2] = {}\n",
    "        \n",
    "        matches = []\n",
    "        for m in row:\n",
    "            count = count + 1\n",
    "            m['id'] = count\n",
    "            matches.append(m)\n",
    "            \n",
    "        new[idx][idx2] = matches"
   ]
  },
  {
   "cell_type": "code",
   "execution_count": 14,
   "id": "29819860-ab89-4e10-b83d-324df915d8e8",
   "metadata": {},
   "outputs": [],
   "source": [
    "with open('odds.json', 'w') as f:\n",
    "    json.dump(new, f)"
   ]
  },
  {
   "cell_type": "code",
   "execution_count": null,
   "id": "ff8582a7-4010-4a0e-af5e-3d59171f5492",
   "metadata": {},
   "outputs": [],
   "source": []
  }
 ],
 "metadata": {
  "kernelspec": {
   "display_name": "Python 3 (ipykernel)",
   "language": "python",
   "name": "python3"
  },
  "language_info": {
   "codemirror_mode": {
    "name": "ipython",
    "version": 3
   },
   "file_extension": ".py",
   "mimetype": "text/x-python",
   "name": "python",
   "nbconvert_exporter": "python",
   "pygments_lexer": "ipython3",
   "version": "3.8.10"
  }
 },
 "nbformat": 4,
 "nbformat_minor": 5
}
