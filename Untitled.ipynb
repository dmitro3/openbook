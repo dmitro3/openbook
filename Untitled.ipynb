{
 "cells": [
  {
   "cell_type": "code",
   "execution_count": 107,
   "id": "549320e0-e165-421c-8fa4-fd88a62e44db",
   "metadata": {},
   "outputs": [],
   "source": [
    "import json\n",
    "from random import randrange\n",
    "import pandas as pd"
   ]
  },
  {
   "cell_type": "code",
   "execution_count": 108,
   "id": "3e65feba-f771-419e-a6f6-f80fc6616745",
   "metadata": {},
   "outputs": [],
   "source": [
    "data = json.load(open('odds_old.json'))\n",
    "\n",
    "count = 1\n",
    "new = {}\n",
    "\n",
    "for idx, rows in data.items():\n",
    "    new[idx] = {}\n",
    "    for idx2, row in rows.items():\n",
    "        new[idx][idx2] = {}\n",
    "        \n",
    "        matches = []\n",
    "        for m in row:\n",
    "            count = count + 1\n",
    "            m['id'] = count\n",
    "            m['timestamp'] = str(pd.to_datetime(1651806000 + (900 * randrange(1000)), unit='s'))\n",
    "            m['outcomes'] = {x: round(y + 0.09/len(m['outcomes']), 2) for x, y in m['outcomes'].items()}\n",
    "            matches.append(m)\n",
    "        \n",
    "        matches = matches[:5]\n",
    "        new[idx][idx2] = matches\n",
    "\n",
    "with open('odds.json', 'w') as f:\n",
    "    json.dump(new, f)"
   ]
  },
  {
   "cell_type": "code",
   "execution_count": null,
   "id": "f6c4d49d-eea9-415e-be3c-47bc82503149",
   "metadata": {},
   "outputs": [],
   "source": []
  }
 ],
 "metadata": {
  "kernelspec": {
   "display_name": "Python 3 (ipykernel)",
   "language": "python",
   "name": "python3"
  },
  "language_info": {
   "codemirror_mode": {
    "name": "ipython",
    "version": 3
   },
   "file_extension": ".py",
   "mimetype": "text/x-python",
   "name": "python",
   "nbconvert_exporter": "python",
   "pygments_lexer": "ipython3",
   "version": "3.8.10"
  }
 },
 "nbformat": 4,
 "nbformat_minor": 5
}
